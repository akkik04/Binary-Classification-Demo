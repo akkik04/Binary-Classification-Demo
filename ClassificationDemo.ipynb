{
 "cells": [
  {
   "attachments": {},
   "cell_type": "markdown",
   "metadata": {},
   "source": [
    "## PROBLEM STATEMENT\n",
    "\n",
    "- Providing an implementation of logistic regression (binary classification algorithm) with a given scenario:\n",
    "\n",
    "### SCENARIO:\n",
    "Suppose that selection for a field trip that a school is organizing is based on each applicant's last two exam results. We are the selection committee, and we want to determine each applicant’s chance of being selected based on their results on two exams. \n",
    "* Let's say we have historical data from previous applicants that is used as a training set for logistic regression. \n",
    "* For each training example, we have the applicant’s scores on two exams (two features) and the admissions decision (associated output label).\n",
    "\n",
    "\n",
    "#### Let's build a classification model that estimates an applicant’s probability of selection for the field-trip based on the scores from those two exams. "
   ]
  },
  {
   "cell_type": "code",
   "execution_count": 23,
   "metadata": {},
   "outputs": [],
   "source": [
    "import numpy as np\n",
    "import matplotlib.pyplot as plt\n",
    "import math\n",
    "from utils import *"
   ]
  },
  {
   "cell_type": "code",
   "execution_count": 24,
   "metadata": {},
   "outputs": [],
   "source": [
    "# load dataset function is defined in utils.py\n",
    "# load the training data. \n",
    "# X_train is a 2D array, y_train is a 1D array.\n",
    "X_train, y_train = load_data(\"data/data.txt\")"
   ]
  },
  {
   "attachments": {},
   "cell_type": "markdown",
   "metadata": {},
   "source": [
    "### VISUALIZE THE INITIAL TRAINING SET:\n",
    "\n",
    "- I'll plot the given training data on a set of axes (where the axes are the two features-->(two exam marks)) to provide visualization of what we're dealing with.\n",
    "    - We'll denote the ``positive class`` as being selected for the field trip.\n",
    "    - We'll denote the ``negative class`` as not being selected for the field trip.\n",
    "\n",
    "\n",
    "\n",
    "\n",
    "The function to generate this plot is written in the ``utils.py`` file for organization purposes, we'll simply call it here :)"
   ]
  },
  {
   "cell_type": "code",
   "execution_count": 25,
   "metadata": {},
   "outputs": [
    {
     "data": {
      "image/png": "[encoded data removed]",
      "text/plain": [
       "<Figure size 640x480 with 1 Axes>"
      ]
     },
     "metadata": {},
     "output_type": "display_data"
    }
   ],
   "source": [
    "plot_data(X_train, y_train, positive_class_label=\"Selected\", negative_class_label=\"Not Selected\")\n",
    "\n",
    "plt.xlabel(\"Score for Exam #1\")\n",
    "plt.ylabel(\"Score for Exam #2\")\n",
    "plt.legend(prop={'size': 8}, loc=\"upper right\")\n",
    "plt.show()"
   ]
  },
  {
   "attachments": {},
   "cell_type": "markdown",
   "metadata": {},
   "source": [
    "### SIGMOID FUNCTION -- ITS IMPORTANCE:\n",
    "\n",
    "- For Logistic Regression, our given model is represented as a the function:\n",
    "$$ f_{\\mathbf{w},b}(x) = g(\\mathbf{w}\\cdot \\mathbf{x} + b)$$\n",
    "- where the function $g$ is the sigmoid function defined as:\n",
    "\n",
    "$$g(z) = \\frac{1}{1+e^{-z}} \\,\\,\\,\\, equivalent\\,\\, to: \\,\\,\\, g(z) = \\frac{1}{1+e^{-\\mathbf{w}\\cdot \\mathbf{x} + b}} $$ \n",
    "\n",
    "- This function allows us to predict the probability of a binary variable. The unique characteristic of the sigmoid function is that its range is: $[0,1]$, which is perfect for our purposes, as the probability of an event is always between 0 and 1.\n",
    "\n",
    "``IMPORTANT NOTES``: \n",
    "\n",
    "- The sigmoid function is also differentiable, which is important for our optimization algorithm (gradient descent) to work.\n",
    "- The parameter $z$ can be an array of numbers, in which case, we'd apply the sigmoid function to each element of the array.\n",
    "- For more information on the variables ``w`` and ``b``, please refer to external information regarding the weights and bias of a logistic regression model.\n"
   ]
  },
  {
   "cell_type": "code",
   "execution_count": 26,
   "metadata": {},
   "outputs": [],
   "source": [
    "# defining the sigmoid function\n",
    "def sigmoid(z):\n",
    "\n",
    "    # compute the sigmoid of z.\n",
    "    g = 1 / (1 + np.exp(-z))\n",
    "\n",
    "    return g"
   ]
  },
  {
   "attachments": {},
   "cell_type": "markdown",
   "metadata": {},
   "source": [
    "### COST FUNCTION -- ITS IMPORTANCE:\n",
    "\n",
    "#### Quick Overview of the Cost Function:\n",
    "- The cost function is used to measure the performance of our model. It is a function that takes in the predicted output and the actual output and returns a single number that represents the error of the model.\n",
    "- Our goal is to minimize the cost to get the most accurate predictions, which is why we use the cost function to optimize our model.\n",
    "\n",
    "#### Cost Function for Logistic Regression:\n",
    "For logistic regression, the cost function is\n",
    "\n",
    "$$ J(\\mathbf{w},b) = \\frac{1}{m}\\sum_{i=0}^{m-1} \\left[ loss(f_{\\mathbf{w},b}(\\mathbf{x}^{(i)}), y^{(i)}) \\right] \\tag{1}$$\n",
    "\n",
    "where,\n",
    "* m is the number of training examples in the dataset.\n",
    "* $loss(f_{\\mathbf{w},b}(\\mathbf{x}^{(i)}), y^{(i)})$ is the cost for a single data point, which is - \n",
    "\n",
    "    $$loss(f_{\\mathbf{w},b}(\\mathbf{x}^{(i)}), y^{(i)}) = (-y^{(i)} \\log\\left(f_{\\mathbf{w},b}\\left( \\mathbf{x}^{(i)} \\right) \\right) - \\left( 1 - y^{(i)}\\right) \\log \\left( 1 - f_{\\mathbf{w},b}\\left( \\mathbf{x}^{(i)} \\right) \\right) \\tag{2}$$\n",
    "\n",
    "*  $f_{\\mathbf{w},b}(\\mathbf{x}^{(i)})$ is the model's prediction, equivalent to $g(\\mathbf{w} \\cdot \\mathbf{x^{(i)}} + b)$, where $g$ is the sigmoid function.\n",
    "* $y^{(i)}$ is the actual label for the $i^{th}$ data point.\n",
    "\n",
    "Let's test the cost function upon implementation with some random values for the weights and bias, so that we can get an idea of how it works!\n",
    "    "
   ]
  },
  {
   "cell_type": "code",
   "execution_count": 27,
   "metadata": {},
   "outputs": [
    {
     "name": "stdout",
     "output_type": "stream",
     "text": [
      "The computed cost at the sample values of w and b is: 0.69315\n"
     ]
    }
   ],
   "source": [
    "# defining the cost function.\n",
    "def compute_logistic_cost(X, y, w, b):\n",
    "\n",
    "    # creating a variable to store the 'm' training examples, and cost.\n",
    "    m = X.shape[0]\n",
    "    cost = 0\n",
    "\n",
    "    # compute the cost.\n",
    "    for i in range(m):\n",
    "\n",
    "        # compute the sigmoid of the dot product of the weights and the training example, plus the bias.\n",
    "        z_i = np.dot(w, X[i]) + b\n",
    "        f_wb_i = sigmoid(z_i)\n",
    "\n",
    "        cost += -y[i] * np.log(f_wb_i) - (1 - y[i]) * np.log(1 - f_wb_i)\n",
    "    \n",
    "    cost /= m\n",
    "    return cost\n",
    "\n",
    "m, n = X_train.shape\n",
    "# compute and display the cost with 'w' & 'b' initialized to zeroes for simplicity.\n",
    "w_init = np.zeros(n)\n",
    "b_init = 0.\n",
    "cost = compute_logistic_cost(X_train, y_train, w_init, b_init)\n",
    "print('The computed cost at the sample values of w and b is: {:.5f}'.format(cost))"
   ]
  }
 ],
 "metadata": {
  "kernelspec": {
   "display_name": "Python 3",
   "language": "python",
   "name": "python3"
  },
  "language_info": {
   "codemirror_mode": {
    "name": "ipython",
    "version": 3
   },
   "file_extension": ".py",
   "mimetype": "text/x-python",
   "name": "python",
   "nbconvert_exporter": "python",
   "pygments_lexer": "ipython3",
   "version": "3.9.13"
  },
  "orig_nbformat": 4,
  "vscode": {
   "interpreter": {
    "hash": "eedfdbac3a4d36f6d1d9aefc894cf59fc52c7675222d267313a0193e9ca8d0c4"
   }
  }
 },
 "nbformat": 4,
 "nbformat_minor": 2
}
