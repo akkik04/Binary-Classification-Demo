{
 "cells": [
  {
   "attachments": {},
   "cell_type": "markdown",
   "metadata": {},
   "source": [
    "## PROBLEM STATEMENT\n",
    "\n",
    "- Providing an implementation of logistic regression (binary classification algorithm) with a given scenario:\n",
    "\n",
    "### SCENARIO:\n",
    "Suppose that selection for a field trip that a school is organizing is based on each applicant's last two exam results. We are the selection committee, and we want to determine each applicant’s chance of being selected based on their results on two exams. \n",
    "* Let's say we have historical data from previous applicants that is used as a training set for logistic regression. \n",
    "* For each training example, we have the applicant’s scores on two exams (two features) and the admissions decision (associated output label).\n",
    "\n",
    "\n",
    "#### Let's build a classification model that estimates an applicant’s probability of selection for the field-trip based on the scores from those two exams. "
   ]
  },
  {
   "cell_type": "code",
   "execution_count": 59,
   "metadata": {},
   "outputs": [],
   "source": [
    "import numpy as np\n",
    "import matplotlib.pyplot as plt\n",
    "import math\n",
    "from utils import *"
   ]
  },
  {
   "cell_type": "code",
   "execution_count": 60,
   "metadata": {},
   "outputs": [
    {
     "name": "stdout",
     "output_type": "stream",
     "text": [
      "First five elements in X_train are: \n",
      " [[34.62365962 78.02469282]\n",
      " [30.28671077 43.89499752]\n",
      " [35.84740877 72.90219803]\n",
      " [60.18259939 86.3085521 ]\n",
      " [79.03273605 75.34437644]]\n",
      "\n",
      "First five elements in y_train are:\n",
      " [0. 0. 0. 1. 1.]\n"
     ]
    }
   ],
   "source": [
    "# load dataset\n",
    "X_train, y_train = load_data(\"data/data.txt\")\n",
    "\n",
    "# testing to see if dataset was retrieved properly.\n",
    "print(\"First five elements in X_train are: \\n\",X_train[:5])\n",
    "print(\"\\nFirst five elements in y_train are:\\n\", y_train[:5])"
   ]
  }
 ],
 "metadata": {
  "kernelspec": {
   "display_name": "Python 3",
   "language": "python",
   "name": "python3"
  },
  "language_info": {
   "codemirror_mode": {
    "name": "ipython",
    "version": 3
   },
   "file_extension": ".py",
   "mimetype": "text/x-python",
   "name": "python",
   "nbconvert_exporter": "python",
   "pygments_lexer": "ipython3",
   "version": "3.9.13"
  },
  "orig_nbformat": 4,
  "vscode": {
   "interpreter": {
    "hash": "eedfdbac3a4d36f6d1d9aefc894cf59fc52c7675222d267313a0193e9ca8d0c4"
   }
  }
 },
 "nbformat": 4,
 "nbformat_minor": 2
}
