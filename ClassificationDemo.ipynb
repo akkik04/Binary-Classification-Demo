{
 "cells": [
  {
   "attachments": {},
   "cell_type": "markdown",
   "metadata": {},
   "source": [
    "## PROBLEM STATEMENT\n",
    "\n",
    "- Providing an implementation of logistic regression (binary classification algorithm) with a given scenario:\n",
    "\n",
    "### SCENARIO:\n",
    "Suppose that selection for a field trip that a school is organizing is based on each applicant's last two exam results. We are the selection committee, and we want to determine each applicant’s chance of being selected based on their results on two exams. \n",
    "* Let's say we have historical data from previous applicants that is used as a training set for logistic regression. \n",
    "* For each training example, we have the applicant’s scores on two exams (two features) and the admissions decision (associated output label).\n",
    "\n",
    "\n",
    "#### Let's build a classification model that estimates an applicant’s probability of selection for the field-trip based on the scores from those two exams. "
   ]
  },
  {
   "cell_type": "code",
   "execution_count": 21,
   "metadata": {},
   "outputs": [],
   "source": [
    "import numpy as np\n",
    "import matplotlib.pyplot as plt\n",
    "import math\n",
    "from utils import *"
   ]
  },
  {
   "cell_type": "code",
   "execution_count": 22,
   "metadata": {},
   "outputs": [],
   "source": [
    "# load dataset function is defined in utils.py\n",
    "# load the training data. \n",
    "# X_train is a 2D array, y_train is a 1D array.\n",
    "X_train, y_train = load_data(\"data/data.txt\")"
   ]
  },
  {
   "attachments": {},
   "cell_type": "markdown",
   "metadata": {},
   "source": [
    "### VISUALIZE THE INITIAL TRAINING SET:\n",
    "\n",
    "- I'll plot the given training data on a set of axes (where the axes are the two features-->(two exam marks)) to provide visualization of what we're dealing with.\n",
    "    - We'll denote the ``positive class`` as being selected for the field trip.\n",
    "    - We'll denote the ``negative class`` as not being selected for the field trip.\n",
    "\n",
    "\n",
    "\n",
    "\n",
    "The function to generate this plot is written in the ``utils.py`` file for organization purposes, we'll simply call it here :)"
   ]
  },
  {
   "cell_type": "code",
   "execution_count": 23,
   "metadata": {},
   "outputs": [
    {
     "data": {
      "image/png": "[encoded data removed]",
      "text/plain": [
       "<Figure size 640x480 with 1 Axes>"
      ]
     },
     "metadata": {},
     "output_type": "display_data"
    }
   ],
   "source": [
    "plot_data(X_train, y_train, positive_class_label=\"Selected\", negative_class_label=\"Not Selected\")\n",
    "\n",
    "plt.xlabel(\"Score for Exam #1\")\n",
    "plt.ylabel(\"Score for Exam #2\")\n",
    "plt.legend(prop={'size': 8}, loc=\"upper right\")\n",
    "plt.show()"
   ]
  },
  {
   "attachments": {},
   "cell_type": "markdown",
   "metadata": {},
   "source": [
    "### SIGMOID FUNCTION -- ITS IMPORTANCE:\n",
    "\n",
    "- For Logistic Regression, our given model is represented as a the function:\n",
    "$$ f_{\\mathbf{w},b}(x) = g(\\mathbf{w}\\cdot \\mathbf{x} + b)$$\n",
    "- where the function $g$ is the sigmoid function defined as:\n",
    "\n",
    "$$g(z) = \\frac{1}{1+e^{-z}} \\,\\,\\,\\, equivalent\\,\\, to: \\,\\,\\, g(z) = \\frac{1}{1+e^{-\\mathbf{w}\\cdot \\mathbf{x} + b}} $$ \n",
    "\n",
    "- This function allows us to predict the probability of a binary variable. The unique characteristic of the sigmoid function is that its range is: $[0,1]$, which is perfect for our purposes, as the probability of an event is always between 0 and 1.\n",
    "\n",
    "``IMPORTANT NOTES``: \n",
    "\n",
    "- The sigmoid function is also differentiable, which is important for our optimization algorithm (gradient descent) to work.\n",
    "- The parameter $z$ can be an array of numbers, in which case, we'd apply the sigmoid function to each element of the array.\n",
    "- For more information on the variables ``w`` and ``b``, please refer to external information regarding the weights and bias of a logistic regression model.\n"
   ]
  },
  {
   "cell_type": "code",
   "execution_count": 24,
   "metadata": {},
   "outputs": [],
   "source": [
    "# defining the sigmoid function\n",
    "def sigmoid(z):\n",
    "\n",
    "    # compute the sigmoid of z.\n",
    "    g = 1 / (1 + np.exp(-z))\n",
    "\n",
    "    return g"
   ]
  },
  {
   "attachments": {},
   "cell_type": "markdown",
   "metadata": {},
   "source": [
    "### COST FUNCTION -- ITS IMPORTANCE:\n",
    "\n",
    "#### Quick Overview of the Cost Function:\n",
    "- The cost function is used to measure the performance of our model. It is a function that takes in the predicted output and the actual output and returns a single number that represents the error of the model.\n",
    "- Our goal is to minimize the cost to get the most accurate predictions, which is why we use the cost function to optimize our model.\n",
    "\n",
    "#### Cost Function for Logistic Regression:\n",
    "For logistic regression, the cost function is\n",
    "\n",
    "$$ J(\\mathbf{w},b) = \\frac{1}{m}\\sum_{i=0}^{m-1} \\left[ loss(f_{\\mathbf{w},b}(\\mathbf{x}^{(i)}), y^{(i)}) \\right] \\tag{1}$$\n",
    "\n",
    "where,\n",
    "* m is the number of training examples in the dataset.\n",
    "* $loss(f_{\\mathbf{w},b}(\\mathbf{x}^{(i)}), y^{(i)})$ is the cost for a single data point, which is - \n",
    "\n",
    "    $$loss(f_{\\mathbf{w},b}(\\mathbf{x}^{(i)}), y^{(i)}) = (-y^{(i)} \\log\\left(f_{\\mathbf{w},b}\\left( \\mathbf{x}^{(i)} \\right) \\right) - \\left( 1 - y^{(i)}\\right) \\log \\left( 1 - f_{\\mathbf{w},b}\\left( \\mathbf{x}^{(i)} \\right) \\right) \\tag{2}$$\n",
    "\n",
    "*  $f_{\\mathbf{w},b}(\\mathbf{x}^{(i)})$ is the model's prediction, equivalent to $g(\\mathbf{w} \\cdot \\mathbf{x^{(i)}} + b)$, where $g$ is the sigmoid function.\n",
    "* $y^{(i)}$ is the actual label for the $i^{th}$ data point.\n",
    "\n",
    "Let's test the cost function upon implementation with some random values for the weights and bias, so that we can get an idea of how it works!\n",
    "    "
   ]
  },
  {
   "cell_type": "code",
   "execution_count": 25,
   "metadata": {},
   "outputs": [],
   "source": [
    "# defining the cost function.\n",
    "def compute_logistic_cost(X, y, w, b):\n",
    "\n",
    "    # creating a variable to store the 'm' training examples, and cost.\n",
    "    m = X.shape[0]\n",
    "    cost = 0\n",
    "\n",
    "    # compute the cost.\n",
    "    for i in range(m):\n",
    "\n",
    "        # compute the sigmoid of the dot product of the weights and the training example, plus the bias.\n",
    "        z_i = np.dot(w, X[i]) + b\n",
    "        f_wb_i = sigmoid(z_i)\n",
    "\n",
    "        cost += -y[i] * np.log(f_wb_i) - (1 - y[i]) * np.log(1 - f_wb_i)\n",
    "    \n",
    "    cost /= m\n",
    "    return cost\n",
    "\n",
    "m, n = X_train.shape\n",
    "# compute and display the cost with 'w' & 'b' initialized to zeroes for simplicity.\n",
    "w_init = np.zeros(n)\n",
    "b_init = 0.0\n",
    "cost = compute_logistic_cost(X_train, y_train, w_init, b_init)"
   ]
  },
  {
   "attachments": {},
   "cell_type": "markdown",
   "metadata": {},
   "source": [
    "### GRADIENT'S OF LOGISTIC REGRESSION -- THEIR IMPORTANCE:\n",
    "\n",
    "#### Quick Overview of the Gradient:\n",
    "- As mentioned earlier, the optimization algorithm we'll be using is gradient descent, and in order to implement it we need ``gradients``\n",
    "\n",
    "    * The gradient is simply the rate of change of the cost function with respect to the parameters of the model ``w`` and ``b``. Definitely require some Calculus knowledge to understand this, but it's not too difficult to grasp.\n",
    "    \n",
    "Recall our cost function for logistic regression: $$ J(\\mathbf{w},b) = \\frac{1}{m}\\sum_{i=0}^{m-1} \\left[ loss(f_{\\mathbf{w},b}(\\mathbf{x}^{(i)}), y^{(i)}) \\right] \\tag{1}$$\n",
    "\n",
    "#### Gradient of the Cost Function:\n",
    "$$\n",
    "\\frac{\\partial J(\\mathbf{w},b)}{\\partial w_j}  = \\frac{1}{m} \\sum\\limits_{i = 0}^{m-1} (f_{\\mathbf{w},b}(\\mathbf{x}^{(i)}) - \\mathbf{y}^{(i)})x_{j}^{(i)} \\tag{2} ----> gradient \\,\\, of \\,\\, the \\,\\, cost \\,\\, function \\,\\, w.r.t \\,\\, the \\,\\, weights.\n",
    "$$\n",
    "\n",
    "$$\n",
    "\\frac{\\partial J(\\mathbf{w},b)}{\\partial b}  = \\frac{1}{m} \\sum\\limits_{i = 0}^{m-1} (f_{\\mathbf{w},b}(\\mathbf{x}^{(i)}) - \\mathbf{y}^{(i)}) \\tag{3}\n",
    "----> gradient \\,\\, of \\,\\, the \\,\\, cost \\,\\, function \\,\\, w.r.t \\,\\, the \\,\\, bias.\n",
    "$$\n",
    "\n",
    "- Want to note that the gradient for $\\frac{dJ}{dw}$ is a vector of partial derivatives of the cost function with respect to each $w_{j}$ in the model. \n",
    "    - $\\frac{dJ}{dw}$ It will consist of $n$ elements, where $n$ is the number of features in the model.\n",
    "- $\\frac{dJ}{db}$ is a scalar value, indicating the bias.\n",
    "\n",
    "Let's test the gradient calculations upon implementation with some random values for the weights and bias, so that we can get an idea of how it works!"
   ]
  },
  {
   "cell_type": "code",
   "execution_count": 26,
   "metadata": {},
   "outputs": [],
   "source": [
    "# defining the gradient function.\n",
    "def compute_gradient(X, y, w, b):\n",
    "\n",
    "    # store the number of training examples 'm' and the number of features 'n'.\n",
    "    m, n = X.shape\n",
    "\n",
    "    # create variables to store the gradient of the cost function with respect to the weights and bias.\n",
    "    dj_dw = np.zeros(w.shape)\n",
    "    dj_db = 0.0\n",
    "\n",
    "    # compute the gradient.\n",
    "    for i in range(m):\n",
    "\n",
    "        # compute the sigmoid output.\n",
    "        f_wb_i = sigmoid(np.dot(X[i], w) + b)\n",
    "\n",
    "        # compute the error.\n",
    "        err_i = f_wb_i - y[i]\n",
    "\n",
    "        for j in range(n):\n",
    "\n",
    "            # compute the gradient of the cost function with respect to the weights.\n",
    "            dj_dw[j] += err_i * X[i][j]\n",
    "\n",
    "        # compute the gradient of the cost function with respect to the bias.\n",
    "        dj_db += f_wb_i - y[i]                                            \n",
    "    dj_dw /= m\n",
    "    dj_db /= m\n",
    "    return dj_dw, dj_db\n",
    "\n",
    "# compute and display the gradient with 'w' & 'b' initialized to zeroes for simplicity.\n",
    "w_init = np.zeros(n)\n",
    "b_init = 0.0\n",
    "dj_dw, dj_db = compute_gradient(X_train, y_train, w_init, b_init)"
   ]
  },
  {
   "attachments": {},
   "cell_type": "markdown",
   "metadata": {},
   "source": [
    "### IMPLEMENTATION OF GRADIENT DESCENT:\n",
    "\n",
    "The gradient descent algorithm is used to optimize the parameters ``w`` and ``b`` of the model, in order to minimize the cost function.\n",
    "- The algorithm is as follows:\n",
    "    - Initialize the parameters of the model (weights and bias).\n",
    "    - Calculate the gradient of the cost function with respect to the parameters.\n",
    "    - Update the parameters simultaneously using the gradient descent update rule.\n",
    "    - Repeat the process until convergence.\n",
    "\n",
    "#### Algorithm:\n",
    "$$\\begin{align*}& \\text{repeat until convergence:} \\; \\lbrace \\newline \\; & b := b -  \\alpha \\frac{\\partial J(\\mathbf{w},b)}{\\partial b} \\newline       \\; & w_j := w_j -  \\alpha \\frac{\\partial J(\\mathbf{w},b)}{\\partial w_j} \\tag{1}  \\; & \\text{for j= 0...n-1}\\newline & \\rbrace\\end{align*}$$\n",
    "\n",
    "where,\n",
    "* $\\alpha$ is the learning rate of the algorithm.\n",
    "* $n$ is the number of features in the model.\n",
    "\n",
    "\n"
   ]
  },
  {
   "cell_type": "code",
   "execution_count": 27,
   "metadata": {},
   "outputs": [],
   "source": [
    "# defining the gradient descent function.\n",
    "def gradient_descent(X, y, w_init, b_init, compute_logistic_cost, compute_gradient, alpha, num_iters):\n",
    "\n",
    "    # store the number of training examples 'm' and the number of features 'n'.\n",
    "    m, n = X.shape\n",
    "\n",
    "    # creating a list to store how the cost changes for visualization.\n",
    "    cost_history = []\n",
    "\n",
    "    # perform gradient descent.\n",
    "    for i in range(num_iters):\n",
    "\n",
    "\n",
    "        dj_dw, dj_db = compute_gradient(X, y, w_init, b_init)\n",
    "\n",
    "        w_init = w_init - (alpha * dj_dw)\n",
    "        b_init = b_init - (alpha * dj_db)\n",
    "\n",
    "        # Save cost at each iteration for printing later.\n",
    "        if i < 100000: \n",
    "            curr_cost =  compute_logistic_cost(X, y, w_init, b_init)\n",
    "            cost_history.append(curr_cost)\n",
    "\n",
    "        # print the cost every at intervals 10 times.\n",
    "        if i % math.ceil(num_iters/10) == 0 or i == (num_iters-1):\n",
    "            print(f\"Iteration {i:4}:     Cost: {float(cost_history[-1]):8.2f}\")\n",
    "    \n",
    "    return w_init, b_init, cost_history"
   ]
  },
  {
   "attachments": {},
   "cell_type": "markdown",
   "metadata": {},
   "source": [
    "### LEARNING OUR ACTUAL PARAMETERS:\n",
    "\n",
    "- Now that we have the cost function and the gradient descent algorithm, we can use them to learn the parameters of our model.\n",
    "- We'll define an appropriate $\\alpha$ and the number of iterations for the algorithm to run."
   ]
  },
  {
   "cell_type": "code",
   "execution_count": 28,
   "metadata": {},
   "outputs": [
    {
     "name": "stdout",
     "output_type": "stream",
     "text": [
      "Iteration    0:     Cost:    14.02\n",
      "Iteration 1000:     Cost:     0.21\n",
      "Iteration 2000:     Cost:     0.21\n",
      "Iteration 3000:     Cost:     0.21\n",
      "Iteration 4000:     Cost:     0.21\n",
      "Iteration 5000:     Cost:     0.21\n",
      "Iteration 6000:     Cost:     0.21\n",
      "Iteration 7000:     Cost:     0.21\n",
      "Iteration 8000:     Cost:     0.21\n",
      "Iteration 9000:     Cost:     0.21\n",
      "Iteration 9999:     Cost:     0.21\n",
      "The optimized values for the weights are:  [0.2448592  0.24046504]\n",
      "The optimized value for the bias is:  -29.985228614555304\n"
     ]
    }
   ],
   "source": [
    "# perform gradient descent algorithm to learn our parameters' values:\n",
    "\n",
    "# define a starting point for the algorithm with 'w' & 'b' \n",
    "w_init = np.zeros(n)\n",
    "b_init = -30.0\n",
    "\n",
    "# gradient descent settings\n",
    "iterations = 10000\n",
    "alpha = 0.001\n",
    "\n",
    "w, b, cost_history = gradient_descent(X_train, y_train, w_init, b_init, compute_logistic_cost, compute_gradient, alpha, iterations)\n",
    "print(\"The optimized values for the weights are: \", w)\n",
    "print(\"The optimized value for the bias is: \", b)"
   ]
  },
  {
   "attachments": {},
   "cell_type": "markdown",
   "metadata": {},
   "source": [
    "### VISUALIZING THE DECISION BOUNDARY:\n",
    "\n",
    "- From the learned parameters, we can plot the decision boundary of the model.\n",
    "    - The decision boundary is the line that separates the two classes in the dataset. Which ultimately creates a seperation between being selected for the field trip or not.\n",
    "\n",
    "The plotting function is defined in ``utils.py``. We'll simply call it with the learned parameters and the dataset to visualize the decision boundary.\n",
    "\n",
    "#### The blue line is the decision boundary, and the red (negative class) and black (positive class) crosses are the training examples.\n",
    "\n"
   ]
  },
  {
   "cell_type": "code",
   "execution_count": 29,
   "metadata": {},
   "outputs": [
    {
     "data": {
      "image/png": "[encoded data removed]",
      "text/plain": [
       "<Figure size 640x480 with 1 Axes>"
      ]
     },
     "metadata": {},
     "output_type": "display_data"
    }
   ],
   "source": [
    "# plot the decision boundary.\n",
    "plot_decision_boundary(X_train, y_train, w, b)\n",
    "\n",
    "# set plot labels.\n",
    "plt.xlabel(\"Score for Exam #1\")\n",
    "plt.ylabel(\"Score for Exam #2\")\n",
    "\n",
    "# set plot legend.\n",
    "plt.legend(prop={'size': 8}, loc=\"upper right\")\n",
    "plt.show()"
   ]
  },
  {
   "attachments": {},
   "cell_type": "markdown",
   "metadata": {},
   "source": [
    "### MAKING PREDICTIONS:\n",
    "\n",
    "- Now that we have the learned parameters, we can use them to make predictions on new data points.\n",
    "- To find the quality of the parameters we've learned, we'll calculate the accuracy of the model on our initial training sets ``X_train`` and ``y_train``.\n",
    "\n",
    "  * Therefore, to get a final prediction ($y^{(i)}=0$ or $y^{(i)}=1$) from the logistic regression model, the following blueprint is useful -\n",
    "\n",
    "    * if $f(x^{(i)}) >= 0.5$, predict $y^{(i)}=1$\n",
    "  \n",
    "    * if $f(x^{(i)}) < 0.5$, predict $y^{(i)}=0$"
   ]
  },
  {
   "cell_type": "code",
   "execution_count": 30,
   "metadata": {},
   "outputs": [
    {
     "name": "stdout",
     "output_type": "stream",
     "text": [
      "Trainining Accuracy: 90.000000 %\n"
     ]
    }
   ],
   "source": [
    "# creating the predict function.\n",
    "def predict(X, w, b):\n",
    "\n",
    "    # store the number of training examples 'm' and the number of features 'n'.\n",
    "    m, n = X.shape\n",
    "    y_pred = np.zeros(m)\n",
    "\n",
    "    # loop through the training examples.\n",
    "    for i in range(m):\n",
    "\n",
    "        z_wb_i = 0\n",
    "\n",
    "        #  loop through the features.\n",
    "        for j in range(n):\n",
    "            \n",
    "            # compute the dot product with the learned parameters.\n",
    "            z_wb_i += X[i][j] * w[j]\n",
    "        \n",
    "        # check if the prediction is positive or negative.\n",
    "        z_wb_i += b\n",
    "        f_wb = sigmoid(z_wb_i)\n",
    "        y_pred[i] = 1 if f_wb >= 0.5 else 0\n",
    "    \n",
    "    return y_pred\n",
    "\n",
    "# compute the accuracy of the model on the training set.\n",
    "prediction = predict(X_train, w, b)\n",
    "print('Trainining Accuracy: %f'%(np.mean(prediction == y_train) * 100),'%')"
   ]
  }
 ],
 "metadata": {
  "kernelspec": {
   "display_name": "Python 3",
   "language": "python",
   "name": "python3"
  },
  "language_info": {
   "codemirror_mode": {
    "name": "ipython",
    "version": 3
   },
   "file_extension": ".py",
   "mimetype": "text/x-python",
   "name": "python",
   "nbconvert_exporter": "python",
   "pygments_lexer": "ipython3",
   "version": "3.9.13"
  },
  "orig_nbformat": 4,
  "vscode": {
   "interpreter": {
    "hash": "eedfdbac3a4d36f6d1d9aefc894cf59fc52c7675222d267313a0193e9ca8d0c4"
   }
  }
 },
 "nbformat": 4,
 "nbformat_minor": 2
}
